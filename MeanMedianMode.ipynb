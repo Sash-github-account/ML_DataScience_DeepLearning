{
 "cells": [
  {
   "cell_type": "markdown",
   "metadata": {
    "deletable": true,
    "editable": true
   },
   "source": [
    "# Mean, Median, Mode, and introducing NumPy"
   ]
  },
  {
   "cell_type": "markdown",
   "metadata": {
    "deletable": true,
    "editable": true
   },
   "source": [
    "## Mean vs. Median"
   ]
  },
  {
   "cell_type": "markdown",
   "metadata": {
    "deletable": true,
    "editable": true
   },
   "source": [
    "Let's create some fake income data, centered around 27,000 with a normal distribution and standard deviation of 15,000, with 10,000 data points. (We'll discuss those terms more later, if you're not familiar with them.)\n",
    "\n",
    "Then, compute the mean (average) - it should be close to 27,000:"
   ]
  },
  {
   "cell_type": "code",
   "execution_count": 1,
   "metadata": {
    "collapsed": false,
    "deletable": true,
    "editable": true
   },
   "outputs": [
    {
     "data": {
      "text/plain": [
       "6959.9944353481978"
      ]
     },
     "execution_count": 1,
     "metadata": {},
     "output_type": "execute_result"
    }
   ],
   "source": [
    "import numpy as np\n",
    "\n",
    "incomes = np.random.normal(7000, 5000, 10000)\n",
    "np.mean(incomes)"
   ]
  },
  {
   "cell_type": "markdown",
   "metadata": {
    "deletable": true,
    "editable": true
   },
   "source": [
    "We can segment the income data into 50 buckets, and plot it as a histogram:"
   ]
  },
  {
   "cell_type": "code",
   "execution_count": 3,
   "metadata": {
    "collapsed": false,
    "deletable": true,
    "editable": true
   },
   "outputs": [
    {
     "data": {
      "image/png": "[encoded data removed]",
      "text/plain": [
       "<matplotlib.figure.Figure at 0x26d29eff2e8>"
      ]
     },
     "metadata": {},
     "output_type": "display_data"
    }
   ],
   "source": [
    "%matplotlib inline\n",
    "import matplotlib.pyplot as plt\n",
    "plt.hist(incomes, 100)\n",
    "plt.show()"
   ]
  },
  {
   "cell_type": "markdown",
   "metadata": {
    "deletable": true,
    "editable": true
   },
   "source": [
    "Now compute the median - since we have a nice, even distribution it too should be close to 27,000:"
   ]
  },
  {
   "cell_type": "code",
   "execution_count": 4,
   "metadata": {
    "collapsed": false,
    "deletable": true,
    "editable": true
   },
   "outputs": [
    {
     "data": {
      "text/plain": [
       "6988.174324426227"
      ]
     },
     "execution_count": 4,
     "metadata": {},
     "output_type": "execute_result"
    }
   ],
   "source": [
    "np.median(incomes)"
   ]
  },
  {
   "cell_type": "markdown",
   "metadata": {
    "deletable": true,
    "editable": true
   },
   "source": [
    "Now we'll add Donald Trump into the mix. Darn income inequality!"
   ]
  },
  {
   "cell_type": "code",
   "execution_count": 7,
   "metadata": {
    "collapsed": false,
    "deletable": true,
    "editable": true
   },
   "outputs": [],
   "source": [
    "incomes = np.append(incomes, [1000000000])"
   ]
  },
  {
   "cell_type": "markdown",
   "metadata": {
    "deletable": true,
    "editable": true
   },
   "source": [
    "The median won't change much, but the mean does:"
   ]
  },
  {
   "cell_type": "code",
   "execution_count": 8,
   "metadata": {
    "collapsed": false,
    "deletable": true,
    "editable": true
   },
   "outputs": [
    {
     "data": {
      "text/plain": [
       "6988.8312722319552"
      ]
     },
     "execution_count": 8,
     "metadata": {},
     "output_type": "execute_result"
    }
   ],
   "source": [
    "np.median(incomes)"
   ]
  },
  {
   "cell_type": "code",
   "execution_count": 9,
   "metadata": {
    "collapsed": false,
    "deletable": true,
    "editable": true
   },
   "outputs": [
    {
     "data": {
      "text/plain": [
       "106949.29950539766"
      ]
     },
     "execution_count": 9,
     "metadata": {},
     "output_type": "execute_result"
    }
   ],
   "source": [
    "np.mean(incomes)"
   ]
  },
  {
   "cell_type": "markdown",
   "metadata": {
    "deletable": true,
    "editable": true
   },
   "source": [
    "## Mode"
   ]
  },
  {
   "cell_type": "markdown",
   "metadata": {
    "deletable": true,
    "editable": true
   },
   "source": [
    "Next, let's generate some fake age data for 500 people:"
   ]
  },
  {
   "cell_type": "code",
   "execution_count": 10,
   "metadata": {
    "collapsed": false,
    "deletable": true,
    "editable": true
   },
   "outputs": [
    {
     "data": {
      "text/plain": [
       "array([38, 78, 59, 78, 18, 25, 63, 25, 83, 45, 71, 42, 34, 26, 30, 34, 79,\n",
       "       21, 77, 77, 69, 53, 38, 70, 79, 82, 81, 42, 62, 44, 84, 44, 64, 75,\n",
       "       80, 53, 81, 75, 49, 57, 59, 67, 54, 72, 26, 32, 37, 47, 45, 86, 27,\n",
       "       81, 52, 22, 45, 75, 25, 84, 84, 87, 41, 42, 31, 46, 42, 35, 54, 59,\n",
       "       84, 33, 57, 65, 29, 34, 85, 57, 31, 33, 36, 60, 26, 62, 62, 54, 59,\n",
       "       62, 48, 74, 58, 74, 58, 29, 56, 44, 66, 48, 68, 76, 51, 54, 78, 79,\n",
       "       57, 79, 64, 52, 83, 80, 37, 30, 35, 67, 37, 40, 28, 89, 84, 57, 87,\n",
       "       61, 75, 67, 62, 70, 25, 81, 85, 58, 66, 46, 35, 47, 49, 20, 46, 35,\n",
       "       58, 51, 46, 66, 53, 27, 60, 30, 75, 49, 20, 42, 86, 56, 65, 75, 52,\n",
       "       71, 52, 29, 38, 63, 28, 65, 55, 37, 42, 69, 79, 33, 84, 70, 83, 48,\n",
       "       64, 43, 28, 41, 46, 81, 25, 69, 45, 20, 45, 58, 67, 52, 76, 44, 43,\n",
       "       30, 24, 27, 37, 61, 60, 24, 57, 23, 82, 80, 41, 63, 75, 71, 46, 47,\n",
       "       19, 40, 29, 81, 60, 50, 19, 52, 82, 33, 24, 28, 25, 83, 67, 32, 51,\n",
       "       60, 67, 39, 29, 26, 32, 49, 33, 21, 37, 27, 83, 29, 36, 78, 67, 66,\n",
       "       77, 52, 55, 73, 75, 77, 83, 33, 82, 77, 34, 73, 55, 78, 40, 21, 52,\n",
       "       81, 27, 52, 62, 46, 62, 36, 36, 37, 80, 41, 40, 22, 86, 44, 22, 43,\n",
       "       78, 54, 86, 75, 32, 23, 51, 83, 74, 80, 55, 25, 44, 21, 81, 71, 26,\n",
       "       88, 74, 62, 28, 61, 35, 30, 27, 52, 79, 78, 82, 72, 18, 62, 78, 34,\n",
       "       29, 67, 72, 58, 61, 63, 82, 24, 44, 88, 76, 19, 49, 55, 33, 20, 44,\n",
       "       23, 86, 59, 30, 80, 65, 74, 84, 18, 87, 35, 84, 74, 60, 86, 59, 81,\n",
       "       30, 83, 78, 57, 77, 59, 74, 23, 87, 64, 77, 64, 72, 73, 82, 53, 56,\n",
       "       22, 54, 38, 52, 29, 20, 64, 50, 41, 47, 28, 20, 83, 83, 84, 89, 41,\n",
       "       85, 46, 25, 18, 67, 43, 76, 61, 38, 54, 50, 79, 41, 66, 27, 24, 48,\n",
       "       56, 49, 56, 57, 47, 21, 78, 56, 59, 77, 79, 48, 89, 24, 87, 24, 36,\n",
       "       19, 21, 70, 56, 70, 18, 70, 69, 54, 19, 70, 25, 57, 72, 83, 30, 55,\n",
       "       56, 70, 32, 48, 86, 51, 76, 51, 18, 40, 21, 56, 80, 20, 59, 19, 75,\n",
       "       31, 44, 56, 75, 83, 46, 43, 60, 52, 73, 65, 66, 30, 26, 25, 66, 51,\n",
       "       26, 63, 53, 46, 37, 45, 85, 81, 23, 46, 59, 86, 65, 32, 40, 67, 81,\n",
       "       76, 41, 73, 40, 23, 88, 50, 54, 55, 57, 47, 39, 56, 64, 52, 39, 34,\n",
       "       47, 23, 75, 48, 89, 48, 71])"
      ]
     },
     "execution_count": 10,
     "metadata": {},
     "output_type": "execute_result"
    }
   ],
   "source": [
    "ages = np.random.randint(18, high=90, size=500)\n",
    "ages"
   ]
  },
  {
   "cell_type": "code",
   "execution_count": 11,
   "metadata": {
    "collapsed": false,
    "deletable": true,
    "editable": true
   },
   "outputs": [
    {
     "data": {
      "text/plain": [
       "ModeResult(mode=array([52]), count=array([13]))"
      ]
     },
     "execution_count": 11,
     "metadata": {},
     "output_type": "execute_result"
    }
   ],
   "source": [
    "from scipy import stats\n",
    "stats.mode(ages)"
   ]
  },
  {
   "cell_type": "code",
   "execution_count": null,
   "metadata": {
    "collapsed": false,
    "deletable": true,
    "editable": true
   },
   "outputs": [],
   "source": []
  }
 ],
 "metadata": {
  "kernelspec": {
   "display_name": "Python 3",
   "language": "python",
   "name": "python3"
  },
  "language_info": {
   "codemirror_mode": {
    "name": "ipython",
    "version": 3
   },
   "file_extension": ".py",
   "mimetype": "text/x-python",
   "name": "python",
   "nbconvert_exporter": "python",
   "pygments_lexer": "ipython3",
   "version": "3.5.2"
  }
 },
 "nbformat": 4,
 "nbformat_minor": 0
}
